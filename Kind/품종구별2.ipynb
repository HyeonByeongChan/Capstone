{
 "cells": [
  {
   "cell_type": "code",
   "execution_count": 1,
   "id": "96deb37f-bc70-46e8-813a-81d500c5b9c1",
   "metadata": {},
   "outputs": [],
   "source": [
    "# This Python 3 environment comes with many helpful analytics libraries installed\n",
    "# It is defined by the kaggle/python Docker image: https://github.com/kaggle/docker-python\n",
    "# For example, here's several helpful packages to load\n",
    "\n",
    "import numpy as np # linear algebra\n",
    "import pandas as pd # data processing, CSV file I/O (e.g. pd.read_csv)\n",
    "\n",
    "# Input data files are available in the read-only \"../input/\" directory\n",
    "# For example, running this (by clicking run or pressing Shift+Enter) will list all files under the input directory\n",
    "\n",
    "# import os\n",
    "# for dirname, _, filenames in os.walk('/kaggle/input'):\n",
    "#     for filename in filenames:\n",
    "#         print(os.path.join(dirname, filename))\n",
    "\n",
    "# You can write up to 20GB to the current directory (/kaggle/working/) that gets preserved as output when you create a version using \"Save & Run All\" \n",
    "# You can also write temporary files to /kaggle/temp/, but they won't be saved outside of the current session"
   ]
  },
  {
   "cell_type": "code",
   "execution_count": 2,
   "id": "6941b608-0e40-471a-a3ce-238c6c0f6b21",
   "metadata": {
    "scrolled": true
   },
   "outputs": [
    {
     "name": "stderr",
     "output_type": "stream",
     "text": [
      "C:\\Users\\hbc46\\AppData\\Local\\Temp\\ipykernel_14040\\2937769465.py:5: TqdmExperimentalWarning: Using `tqdm.autonotebook.tqdm` in notebook mode. Use `tqdm.tqdm` instead to force console mode (e.g. in jupyter console)\n",
      "  from tqdm.autonotebook import tqdm\n"
     ]
    }
   ],
   "source": [
    "import os\n",
    "import random\n",
    "from PIL import Image\n",
    "import matplotlib.pyplot as plt\n",
    "from tqdm.autonotebook import tqdm\n",
    "import gc\n",
    "\n",
    "\n",
    "\n",
    "def plot_random_images(dir_path, num_images, folder_name):\n",
    "    # Get a list of all the image file names in the directory\n",
    "    image_files = [f for f in os.listdir(dir_path) if f.endswith('.jpg') or f.endswith('.png')]\n",
    "\n",
    "    # Shuffle the list of image file names\n",
    "    random.shuffle(image_files)\n",
    "\n",
    "    # Get the first num_images from the shuffled list\n",
    "    image_files = image_files[:num_images]\n",
    "\n",
    "    # Calculate the number of rows and columns for the plot\n",
    "    num_rows = (num_images + 3) // 4\n",
    "    num_cols = min(num_images, 4)\n",
    "\n",
    "    # Create a figure to plot the images\n",
    "    fig = plt.figure(figsize=(10, 10*num_rows/num_cols))\n",
    "\n",
    "    # Loop through the selected images and plot each one\n",
    "    for i in range(num_images):\n",
    "        # Open the image file\n",
    "        img_path = os.path.join(dir_path, image_files[i])\n",
    "        img = Image.open(img_path)\n",
    "\n",
    "        # Add a subplot to the figure and plot the image\n",
    "        ax = fig.add_subplot(num_rows, num_cols, i+1)\n",
    "        ax.imshow(img,cmap=\"gray\")\n",
    "\n",
    "        # Remove the axis labels\n",
    "        ax.set_xticks([])\n",
    "        ax.set_yticks([])\n",
    "\n",
    "        # Add the image name as x-axis label\n",
    "        ax.set_xlabel(image_files[i], fontsize=8, wrap=True)\n",
    "\n",
    "    # Set the title of the plot to the folder name\n",
    "    plt.suptitle(folder_name, fontsize=16)\n",
    "\n",
    "    # Adjust the spacing between the subplots\n",
    "    plt.subplots_adjust(wspace=0.05, hspace=0.05)\n",
    "\n",
    "    # Show the plot\n",
    "    plt.show()"
   ]
  },
  {
   "cell_type": "code",
   "execution_count": 3,
   "id": "fcc119ef-fa19-418d-b307-162a93bf22d7",
   "metadata": {},
   "outputs": [],
   "source": [
    "training_dir = \"./train\"\n",
    "testing_dir  = \"./test\""
   ]
  },
  {
   "cell_type": "code",
   "execution_count": 4,
   "id": "b0019c79-0849-4121-a0f0-86125a46540b",
   "metadata": {},
   "outputs": [
    {
     "name": "stdout",
     "output_type": "stream",
     "text": [
      "Total unique breed :----> 120 \n",
      "\n"
     ]
    }
   ],
   "source": [
    "labels = pd.read_csv('./labels.csv')\n",
    "\n",
    "#Create list of alphabetically sorted labels.\n",
    "classes = sorted(list(set(labels['breed'])))\n",
    "n_classes = len(classes)\n",
    "print('Total unique breed :----> {}'.format(n_classes), \"\\n\")\n",
    "\n",
    "class_to_num =  dict(zip(classes, range(n_classes)))"
   ]
  },
  {
   "cell_type": "code",
   "execution_count": 5,
   "id": "b27bfa96-787d-4b24-abce-d5e6abf23b34",
   "metadata": {},
   "outputs": [],
   "source": [
    "from tensorflow.keras.utils import to_categorical\n",
    "from tensorflow.keras.preprocessing.image import load_img, img_to_array\n",
    "import os"
   ]
  },
  {
   "cell_type": "code",
   "execution_count": 6,
   "id": "23125b62-a67f-40e7-bd31-22ba3269ddd5",
   "metadata": {},
   "outputs": [],
   "source": [
    "input_shape = (331,331,3)\n",
    "\n",
    "def images_to_array(directory, label_dataframe = labels, target_size = input_shape):\n",
    "    image_labels = label_dataframe['breed']\n",
    "    images = np.zeros([len(label_dataframe), target_size[0], target_size[1], \n",
    "                       target_size[2]],dtype=np.uint8) #as we have huge data and limited ram memory. uint8 takes less memory\n",
    "    y = np.zeros([len(label_dataframe),1],dtype = np.uint8)\n",
    "    \n",
    "    for ix, image_name in enumerate(tqdm(label_dataframe['id'].values)):\n",
    "        img_dir = os.path.join(directory, image_name+'.jpg')\n",
    "        img = load_img(img_dir, target_size = target_size)\n",
    "        images[ix] = img\n",
    "        del img\n",
    "        dog_breed = image_labels[ix]\n",
    "        y[ix] = class_to_num[dog_breed]\n",
    "        \n",
    "    y = to_categorical(y)\n",
    "    return images,y\n",
    "        \n",
    "        "
   ]
  },
  {
   "cell_type": "code",
   "execution_count": 7,
   "id": "6bb58a61-c179-41be-8665-7513f9130ba2",
   "metadata": {},
   "outputs": [
    {
     "data": {
      "application/vnd.jupyter.widget-view+json": {
       "model_id": "85bbdd514be14b0286e5ce4bef033ccd",
       "version_major": 2,
       "version_minor": 0
      },
      "text/plain": [
       "  0%|          | 0/10222 [00:00<?, ?it/s]"
      ]
     },
     "metadata": {},
     "output_type": "display_data"
    },
    {
     "name": "stdout",
     "output_type": "stream",
     "text": [
      "runtime in seconds: 109.219229221344\n"
     ]
    }
   ],
   "source": [
    "import time \n",
    "t = time.time()\n",
    "\n",
    "X,y = images_to_array('./train', labels[:])\n",
    "\n",
    "print('runtime in seconds: {}'.format(time.time() - t))"
   ]
  },
  {
   "cell_type": "code",
   "execution_count": 8,
   "id": "82b8c03d-e66b-482e-a521-3bfcaf6178e0",
   "metadata": {},
   "outputs": [],
   "source": [
    "from tensorflow.keras.callbacks import ReduceLROnPlateau,EarlyStopping\n",
    "\n",
    "## Learning Rate Annealer \n",
    "lrr = ReduceLROnPlateau(monitor = \"val_acc\", factor = .01, patience = 3, \n",
    "                       min_lr= 1e-5, verbose = 1)\n",
    "## Prepare Callbacks\n",
    "EarlyStop = EarlyStopping(monitor='val_loss', patience = 10, \n",
    "                          restore_best_weights = True)"
   ]
  },
  {
   "cell_type": "code",
   "execution_count": 9,
   "id": "59a05659-eb98-48d4-b875-6e7cd8c82b37",
   "metadata": {},
   "outputs": [],
   "source": [
    "from tensorflow.keras.optimizers import Adam\n",
    "\n",
    "# Hyperparameters\n",
    "batch_size= 128\n",
    "epochs=50\n",
    "learn_rate=.001\n",
    "\n",
    "adam=Adam(learning_rate=learn_rate, beta_1=0.9, beta_2=0.999, epsilon=None,  amsgrad=False)"
   ]
  },
  {
   "cell_type": "code",
   "execution_count": 10,
   "id": "a3edb663-153b-447a-a372-35235a831bb5",
   "metadata": {},
   "outputs": [],
   "source": [
    "from tensorflow.keras.layers import (Input, Lambda , Dense, Flatten, \n",
    "                                     ReLU, LeakyReLU, PReLU, BatchNormalization,\n",
    "                                    Conv2D, MaxPool2D, Dropout, \n",
    "                                     GlobalAveragePooling2D)\n",
    "\n",
    "from tensorflow.keras.models import (Model, Sequential)"
   ]
  },
  {
   "cell_type": "code",
   "execution_count": 11,
   "id": "f398feb7-686a-4063-8e5c-415d9d4fcd90",
   "metadata": {},
   "outputs": [],
   "source": [
    "## function to extract features from the dataset by a given pretrained model\n",
    "img_size = (331,331,3)\n",
    "\n",
    "def get_features(model_name, model_preprocessor, input_size, data):\n",
    "    input_layer = Input(input_size)\n",
    "    preprocessor = Lambda(model_preprocessor)(input_layer)\n",
    "    base_model   = model_name(weights='imagenet', include_top=False,\n",
    "                            input_shape = input_size)(preprocessor)\n",
    "    avg = GlobalAveragePooling2D()(base_model)\n",
    "    feature_extractor = Model(inputs = input_layer, outputs = avg)\n",
    "    \n",
    "    #Extract feature.\n",
    "    \n",
    "    feature_maps = feature_extractor.predict(data, verbose=1)\n",
    "    print(\"{0} Feature Map Shape Are {1}\".format(model_name, feature_maps.shape))\n",
    "    return feature_maps"
   ]
  },
  {
   "cell_type": "code",
   "execution_count": 12,
   "id": "95013951-a266-4d14-929a-4ef578151026",
   "metadata": {},
   "outputs": [
    {
     "name": "stdout",
     "output_type": "stream",
     "text": [
      "WARNING:tensorflow:From C:\\Users\\hbc46\\anaconda3\\envs\\pet\\Lib\\site-packages\\keras\\src\\backend\\tensorflow\\core.py:188: The name tf.placeholder is deprecated. Please use tf.compat.v1.placeholder instead.\n",
      "\n",
      "\u001b[1m320/320\u001b[0m \u001b[32m━━━━━━━━━━━━━━━━━━━━\u001b[0m\u001b[37m\u001b[0m \u001b[1m1113s\u001b[0m 3s/step\n",
      "<function InceptionV3 at 0x00000185C6958FE0> Feature Map Shape Are (10222, 2048)\n"
     ]
    }
   ],
   "source": [
    "# Extract features using InceptionV3 \n",
    "\n",
    "from keras.applications.inception_v3 import InceptionV3, preprocess_input\n",
    "inception_preprocessor = preprocess_input\n",
    "inception_features = get_features(InceptionV3,\n",
    "                                  inception_preprocessor,\n",
    "                                  img_size, X)"
   ]
  },
  {
   "cell_type": "code",
   "execution_count": 13,
   "id": "b54fff77-c519-494a-b013-481da3d29f60",
   "metadata": {
    "scrolled": true
   },
   "outputs": [
    {
     "name": "stdout",
     "output_type": "stream",
     "text": [
      "\u001b[1m320/320\u001b[0m \u001b[32m━━━━━━━━━━━━━━━━━━━━\u001b[0m\u001b[37m\u001b[0m \u001b[1m2791s\u001b[0m 9s/step\n",
      "<function InceptionResNetV2 at 0x00000185C6958900> Feature Map Shape Are (10222, 1536)\n"
     ]
    }
   ],
   "source": [
    "# Extract features using InceptionResNetV2\n",
    "from keras.applications.inception_resnet_v2 import InceptionResNetV2, preprocess_input\n",
    "inc_resnet_preprocessor = preprocess_input\n",
    "inc_resnet_features = get_features(InceptionResNetV2,\n",
    "                                   inc_resnet_preprocessor,\n",
    "                                   img_size, X)"
   ]
  },
  {
   "cell_type": "code",
   "execution_count": null,
   "id": "eafd8672-c4d9-43ff-b61b-fdcb44185225",
   "metadata": {},
   "outputs": [
    {
     "name": "stdout",
     "output_type": "stream",
     "text": [
      "\u001b[1m 39/320\u001b[0m \u001b[32m━━\u001b[0m\u001b[37m━━━━━━━━━━━━━━━━━━\u001b[0m \u001b[1m1:15:59\u001b[0m 16s/step"
     ]
    }
   ],
   "source": [
    "# Extract features using NASNetLarge \n",
    "from keras.applications.nasnet import NASNetLarge, preprocess_input\n",
    "nasnet_preprocessor = preprocess_input\n",
    "nasnet_features = get_features(NASNetLarge,\n",
    "                               nasnet_preprocessor,\n",
    "                               img_size, X)"
   ]
  },
  {
   "cell_type": "code",
   "execution_count": null,
   "id": "555cde96-0852-4ecf-a1ae-a6e448e5fcbf",
   "metadata": {},
   "outputs": [],
   "source": [
    "# Extract features using Xception \n",
    "from keras.applications.xception import Xception, preprocess_input\n",
    "xception_preprocessor = preprocess_input\n",
    "xception_features = get_features(Xception,\n",
    "                                 xception_preprocessor,\n",
    "                                 img_size, X)"
   ]
  },
  {
   "cell_type": "code",
   "execution_count": null,
   "id": "0ef3d2f6-3db1-4308-8143-2a3ba29ca901",
   "metadata": {},
   "outputs": [],
   "source": [
    "#Creating final featuremap by combining all extracted features\n",
    "\n",
    "final_features = np.concatenate([inception_features,\n",
    "                                 xception_features,\n",
    "                                 nasnet_features,\n",
    "                                 inc_resnet_features,], axis=-1) #axis=-1 to concatinate horizontally\n",
    "\n",
    "print('Final feature maps shape', final_features.shape)"
   ]
  },
  {
   "cell_type": "code",
   "execution_count": null,
   "id": "0ee17931-80ae-4ab3-88b0-f6c23027e5f2",
   "metadata": {},
   "outputs": [],
   "source": []
  },
  {
   "cell_type": "code",
   "execution_count": null,
   "id": "8c6de541-1259-44e6-affd-71777b10ea5e",
   "metadata": {},
   "outputs": [],
   "source": [
    "from tensorflow.keras import optimizers\n",
    "\n",
    "model = Sequential()\n",
    "model.add(Dropout(0.7, input_shape=(final_features.shape[1],)))\n",
    "model.add(Dense(n_classes, activation='softmax'))\n",
    "\n",
    "# Create optimizer instance\n",
    "adam = optimizers.Adam()\n",
    "\n",
    "model.compile(optimizer=adam,\n",
    "              loss='categorical_crossentropy',\n",
    "              metrics=['accuracy'])\n",
    "\n",
    "# Training the model.\n",
    "history = model.fit(final_features, y,\n",
    "                    batch_size=batch_size,\n",
    "                    epochs=epochs,\n",
    "                    validation_split=0.2,\n",
    "                    callbacks=[lrr, EarlyStop])"
   ]
  },
  {
   "cell_type": "code",
   "execution_count": null,
   "id": "d2b4e1a8-882b-4931-a35f-5d7428f17bbf",
   "metadata": {},
   "outputs": [],
   "source": [
    "# #deleting to free up ram memory\n",
    "\n",
    "# del inception_features\n",
    "# del xception_features\n",
    "# del nasnet_features\n",
    "# del inc_resnet_features\n",
    "# del final_features\n",
    "# del X\n",
    "gc.collect()"
   ]
  },
  {
   "cell_type": "code",
   "execution_count": null,
   "id": "07aa421c-1e01-4c0c-9383-0f13562e22e8",
   "metadata": {},
   "outputs": [],
   "source": [
    "from tensorflow.keras.preprocessing.image import load_img\n",
    "\n",
    "def images_to_array_test(test_path, img_size=(331, 331, 3)):\n",
    "    \"\"\"\n",
    "    Load images from the specified test directory and convert them into numpy arrays.\n",
    "\n",
    "    Parameters:\n",
    "    - test_path (str): Path to the directory containing the test images.\n",
    "    - img_size (tuple): Target size of the images in the format (height, width, channels).\n",
    "\n",
    "    Returns:\n",
    "    - images (numpy.ndarray): A 4D numpy array containing the loaded images, with shape (num_samples, height, width, channels).\n",
    "    \"\"\"\n",
    "    # Get the list of filenames in the test directory\n",
    "    test_filenames = [os.path.join(test_path, fname) for fname in os.listdir(test_path)]\n",
    "\n",
    "    # Get the number of images in the test directory\n",
    "    data_size = len(test_filenames)\n",
    "\n",
    "    # Create an empty array to store the images\n",
    "    images = np.zeros([data_size, img_size[0], img_size[1], 3], dtype=np.uint8)\n",
    "\n",
    "    # Load each image from the test directory\n",
    "    for ix, img_path in enumerate(tqdm(test_filenames, desc='Loading images')):\n",
    "        img = load_img(img_path, target_size=img_size)  # Load the image\n",
    "        images[ix] = img  # Store the image in the array\n",
    "        del img  # Delete the image object to free up memory\n",
    "\n",
    "    print('Output Data Size:', images.shape)\n",
    "    return images"
   ]
  },
  {
   "cell_type": "code",
   "execution_count": null,
   "id": "f120aaec-96a6-411f-8f3b-43b23631be37",
   "metadata": {},
   "outputs": [],
   "source": [
    "test_data = images_to_array_test(testing_dir, img_size)"
   ]
  },
  {
   "cell_type": "code",
   "execution_count": null,
   "id": "cbbbca03-08cc-45d4-ac33-2a2227cfba30",
   "metadata": {},
   "outputs": [],
   "source": [
    "#Extract test data features.\n",
    "def extact_features(data):\n",
    "    inception_features = get_features(InceptionV3, inception_preprocessor, img_size, data)\n",
    "    xception_features = get_features(Xception, xception_preprocessor, img_size, data)\n",
    "    nasnet_features = get_features(NASNetLarge, nasnet_preprocessor, img_size, data)\n",
    "    inc_resnet_features = get_features(InceptionResNetV2, inc_resnet_preprocessor, img_size, data)\n",
    "\n",
    "    final_features = np.concatenate([inception_features,\n",
    "                                     xception_features,\n",
    "                                     nasnet_features,\n",
    "                                     inc_resnet_features],axis=-1)\n",
    "    \n",
    "    print('Final feature maps shape', final_features.shape)\n",
    "    \n",
    "    #deleting to free up ram memory\n",
    "    del inception_features\n",
    "    del xception_features\n",
    "    del nasnet_features\n",
    "    del inc_resnet_features\n",
    "    gc.collect()\n",
    "    \n",
    "    \n",
    "    return final_features\n",
    "\n",
    "test_features = extact_features(test_data)"
   ]
  },
  {
   "cell_type": "code",
   "execution_count": null,
   "id": "41076e5a-7903-405a-a09d-136b7589e942",
   "metadata": {},
   "outputs": [],
   "source": [
    "#Free up some space.\n",
    "del test_data\n",
    "gc.collect()"
   ]
  },
  {
   "cell_type": "code",
   "execution_count": null,
   "id": "d50af7ee-8f3b-4529-9e02-2b66e320e886",
   "metadata": {
    "scrolled": true
   },
   "outputs": [],
   "source": [
    "import torch"
   ]
  },
  {
   "cell_type": "code",
   "execution_count": null,
   "id": "d381b080-ae72-4e5f-aab4-ae037fcce331",
   "metadata": {},
   "outputs": [],
   "source": [
    "print(type(model))\n"
   ]
  },
  {
   "cell_type": "code",
   "execution_count": null,
   "id": "31565ed1-6139-4479-824a-3db2053593e2",
   "metadata": {},
   "outputs": [],
   "source": [
    "model.save('my_model2.h5')  # HDF5 파일로 저장\n",
    "\n",
    "from tensorflow.keras.models import load_model\n",
    "\n",
    "# # HDF5 파일에서 모델 불러오기\n",
    "model = load_model('my_model2.h5')"
   ]
  },
  {
   "cell_type": "code",
   "execution_count": null,
   "id": "50fab9c1-0e07-48e8-8251-0a9aead976a7",
   "metadata": {},
   "outputs": [],
   "source": [
    "#Predict test labels given test data features.\n",
    "\n",
    "pred = model.predict(test_features)\n",
    "\n",
    "predicted_labels = [classes[np.argmax(pred_i)] for pred_i in pred]"
   ]
  },
  {
   "cell_type": "code",
   "execution_count": null,
   "id": "e857e1c9-e248-4df5-b683-4be5c72f0b9a",
   "metadata": {},
   "outputs": [],
   "source": [
    "test_df  = pd.DataFrame(os.listdir(testing_dir),columns  = ['ImageName'])\n",
    "test_df[\"ImagePath\"] = test_df['ImageName'].apply(lambda x: training_dir + \"/\" + x)\n",
    "test_df['predicted_labels'] = predicted_labels\n",
    "test_df.head()"
   ]
  },
  {
   "cell_type": "code",
   "execution_count": null,
   "id": "227b78e7-4418-4e23-9bc8-a603548e6c7b",
   "metadata": {},
   "outputs": [],
   "source": [
    "train_data = images_to_array_test(training_dir, img_size)\n",
    "train_feature = extact_features(train_data)\n",
    "#Free up some space.\n",
    "del train_data\n",
    "gc.collect()\n",
    "\n",
    "#Predict test labels given test data features.\n",
    "\n",
    "pred_train = model.predict(train_feature)\n",
    "\n",
    "predicted_labels_train = [classes[np.argmax(pred_i)] for pred_i in pred_train]"
   ]
  },
  {
   "cell_type": "code",
   "execution_count": null,
   "id": "3976146b-03a5-46d1-87d7-a6cc880d434e",
   "metadata": {},
   "outputs": [],
   "source": [
    "np.save('final_features.npy', final_features)"
   ]
  },
  {
   "cell_type": "code",
   "execution_count": null,
   "id": "f2d83b94-1bff-40b5-a7eb-7d4be0729c2b",
   "metadata": {},
   "outputs": [],
   "source": [
    "train_df  = pd.DataFrame(os.listdir(training_dir),columns  = ['ImageName'])\n",
    "train_df[\"ImagePath\"] = train_df['ImageName'].apply(lambda x: training_dir + \"/\" + x)\n",
    "train_df['ImageName'] = train_df['ImageName'].apply(lambda x: x.split(\".\")[0])\n",
    "\n",
    "label_df = pd.read_csv(\"./labels.csv\").rename(columns ={\"id\":\"ImageName\", \"breed\":\"Actual_Breed\"})\n",
    "train_df = train_df.merge(label_df, on = ['ImageName'])\n",
    "\n",
    "train_df['Pred_Breed'] = predicted_labels_train"
   ]
  },
  {
   "cell_type": "code",
   "execution_count": null,
   "id": "77044d1d-bab4-40b4-b7ee-fd1f1995b2d3",
   "metadata": {},
   "outputs": [],
   "source": [
    "plt.figure(figsize=(12,5))\n",
    "\n",
    "plt.subplot(1,2,1)\n",
    "plt.plot(history.history['loss'], label='Training Loss')\n",
    "plt.plot(history.history['val_loss'], 'ro', label='Validation Loss')\n",
    "plt.title('Loss')\n",
    "plt.grid(True)\n",
    "plt.legend()\n",
    "\n",
    "plt.subplot(1,2,2)\n",
    "plt.plot(history.history['accuracy'], label='Training Accuracy')\n",
    "plt.plot(history.history['val_accuracy'], 'ro', label='Validation Accuracy')\n",
    "plt.title('Accuracy')\n",
    "plt.grid(True)\n",
    "plt.legend()\n",
    "\n",
    "plt.show()"
   ]
  },
  {
   "cell_type": "code",
   "execution_count": null,
   "id": "b66b6d31-c724-43f6-a15d-0ffcd40c4e25",
   "metadata": {},
   "outputs": [],
   "source": [
    "model.save('my_model2.h5')  # HDF5 파일로 저장\n",
    "\n",
    "# from tensorflow.keras.models import load_model\n",
    "\n",
    "# # HDF5 파일에서 모델 불러오기\n",
    "model = load_model('my_model2.h5')"
   ]
  },
  {
   "cell_type": "code",
   "execution_count": null,
   "id": "3efaafbe-992a-460d-9415-904982135603",
   "metadata": {},
   "outputs": [],
   "source": [
    "max(history.history['val_accuracy'])"
   ]
  },
  {
   "cell_type": "code",
   "execution_count": null,
   "id": "d58c9b02-9804-426a-97f3-61922a986513",
   "metadata": {},
   "outputs": [],
   "source": [
    "#사진 예측\n",
    "import numpy as np\n",
    "from tensorflow.keras.preprocessing.image import img_to_array, load_img\n",
    "from tensorflow.keras.applications.inception_v3 import preprocess_input as inception_preprocessor\n",
    "from tensorflow.keras.applications.xception import preprocess_input as xception_preprocessor\n",
    "from tensorflow.keras.applications.nasnet import preprocess_input as nasnet_preprocessor\n",
    "from tensorflow.keras.applications.inception_resnet_v2 import preprocess_input as inc_resnet_preprocessor\n",
    "from keras.applications.inception_v3 import InceptionV3, preprocess_input\n",
    "from keras.applications.inception_resnet_v2 import InceptionResNetV2, preprocess_input\n",
    "from keras.applications.nasnet import NASNetLarge, preprocess_input\n",
    "from keras.applications.xception import Xception, preprocess_input\n",
    "from tensorflow.keras.models import load_model\n",
    "from tensorflow.keras.layers import (Input, Lambda , Dense, Flatten, \n",
    "                                     ReLU, LeakyReLU, PReLU, BatchNormalization,\n",
    "                                    Conv2D, MaxPool2D, Dropout, \n",
    "                                     GlobalAveragePooling2D)\n",
    "\n",
    "from tensorflow.keras.models import (Model, Sequential)\n",
    "\n",
    "labels = pd.read_csv('./labels.csv')\n",
    "\n",
    "#Create list of alphabetically sorted labels.\n",
    "classes = sorted(list(set(labels['breed'])))\n",
    "\n",
    "# # HDF5 파일에서 모델 불러오기\n",
    "model = load_model('my_model2.h5')\n",
    "\n",
    "def get_features(model_name, model_preprocessor, input_size, data):\n",
    "    input_layer = Input(input_size)\n",
    "    preprocessor = Lambda(model_preprocessor)(input_layer)\n",
    "    base_model   = model_name(weights='imagenet', include_top=False,\n",
    "                            input_shape = input_size)(preprocessor)\n",
    "    avg = GlobalAveragePooling2D()(base_model)\n",
    "    feature_extractor = Model(inputs = input_layer, outputs = avg)\n",
    "    \n",
    "    #Extract feature.\n",
    "    \n",
    "    feature_maps = feature_extractor.predict(data, verbose=1)\n",
    "    print(\"{0} Feature Map Shape Are {1}\".format(model_name, feature_maps.shape))\n",
    "    return feature_maps\n",
    "\n",
    "def preprocess_image(image_path, target_size):\n",
    "    \"\"\"이미지 로드 및 전처리\"\"\"\n",
    "    img = load_img(image_path, target_size=target_size)\n",
    "    img_array = img_to_array(img)\n",
    "    img_array = np.expand_dims(img_array, axis=0)\n",
    "    return img_array\n",
    "\n",
    "def extract_and_combine_features(image_path):\n",
    "    \"\"\"사전 훈련된 모델들을 사용하여 특징 추출 및 결합\"\"\"\n",
    "    # 이미지 전처리\n",
    "    img_size = (331, 331,3)  # 모델에 따라 적절한 사이즈로 조정\n",
    "    img = preprocess_image(image_path, target_size=img_size)\n",
    "\n",
    "    # 특징 추출\n",
    "    inception_features = get_features(InceptionV3, inception_preprocessor, img_size, img)\n",
    "    xception_features = get_features(Xception, xception_preprocessor, img_size, img)\n",
    "    nasnet_features = get_features(NASNetLarge, nasnet_preprocessor, img_size, img)\n",
    "    inc_resnet_features = get_features(InceptionResNetV2, inc_resnet_preprocessor, img_size, img)\n",
    "\n",
    "    # 특징 결합\n",
    "    final_features = np.concatenate([inception_features, xception_features, nasnet_features, inc_resnet_features], axis=-1)\n",
    "    return final_features\n",
    "\n",
    "def predict_breed(image_path):\n",
    "    \"\"\"새로운 이미지에 대한 품종 예측 수행\"\"\"\n",
    "    # 특징 추출 및 결합\n",
    "    features = extract_and_combine_features(image_path)\n",
    "\n",
    "    # 모델을 사용한 예측\n",
    "    prediction = model.predict(features)\n",
    "    \n",
    "    # 확률이 가장 높은 클래스 결정\n",
    "    predicted_class = np.argmax(prediction, axis=1)\n",
    "    predicted_class_name = classes[predicted_class[0]]\n",
    "    return predicted_class_name\n",
    "\n",
    "# 새 이미지에 대한 예측 수행\n",
    "image_path = 'dingo.jpg'\n",
    "predicted_breed = predict_breed(image_path)\n",
    "print(f\"Predicted breed: {predicted_breed}\")\n"
   ]
  },
  {
   "cell_type": "code",
   "execution_count": null,
   "id": "f4385c19-03da-4d97-9578-87cacae33924",
   "metadata": {},
   "outputs": [],
   "source": []
  }
 ],
 "metadata": {
  "kernelspec": {
   "display_name": "Python 3 (ipykernel)",
   "language": "python",
   "name": "python3"
  },
  "language_info": {
   "codemirror_mode": {
    "name": "ipython",
    "version": 3
   },
   "file_extension": ".py",
   "mimetype": "text/x-python",
   "name": "python",
   "nbconvert_exporter": "python",
   "pygments_lexer": "ipython3",
   "version": "3.12.2"
  }
 },
 "nbformat": 4,
 "nbformat_minor": 5
}
